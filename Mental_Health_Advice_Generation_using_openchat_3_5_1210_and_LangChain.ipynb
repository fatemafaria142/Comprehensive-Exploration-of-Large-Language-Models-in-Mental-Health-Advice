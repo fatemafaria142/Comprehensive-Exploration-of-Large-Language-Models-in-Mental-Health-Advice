{
  "nbformat": 4,
  "nbformat_minor": 0,
  "metadata": {
    "colab": {
      "provenance": [],
      "gpuType": "T4",
      "include_colab_link": true
    },
    "kernelspec": {
      "name": "python3",
      "display_name": "Python 3"
    },
    "language_info": {
      "name": "python"
    },
    "widgets": {
      "application/vnd.jupyter.widget-state+json": {
        "5b0e349d2ea6471397024e155dd8abe9": {
          "model_module": "@jupyter-widgets/controls",
          "model_name": "HBoxModel",
          "model_module_version": "1.5.0",
          "state": {
            "_dom_classes": [],
            "_model_module": "@jupyter-widgets/controls",
            "_model_module_version": "1.5.0",
            "_model_name": "HBoxModel",
            "_view_count": null,
            "_view_module": "@jupyter-widgets/controls",
            "_view_module_version": "1.5.0",
            "_view_name": "HBoxView",
            "box_style": "",
            "children": [
              "IPY_MODEL_bb4c6d3ff1154780aef082236c6f3e0b",
              "IPY_MODEL_553486d7afc34234a43aa2b2517621f3",
              "IPY_MODEL_54bc775e3d8949cbb2252104a6b10e63"
            ],
            "layout": "IPY_MODEL_db44fb95f2fa4b93bd6ef2dbeb5aeea5"
          }
        },
        "bb4c6d3ff1154780aef082236c6f3e0b": {
          "model_module": "@jupyter-widgets/controls",
          "model_name": "HTMLModel",
          "model_module_version": "1.5.0",
          "state": {
            "_dom_classes": [],
            "_model_module": "@jupyter-widgets/controls",
            "_model_module_version": "1.5.0",
            "_model_name": "HTMLModel",
            "_view_count": null,
            "_view_module": "@jupyter-widgets/controls",
            "_view_module_version": "1.5.0",
            "_view_name": "HTMLView",
            "description": "",
            "description_tooltip": null,
            "layout": "IPY_MODEL_7e1c8f1e33054af6bb38417d0a0fcb6e",
            "placeholder": "​",
            "style": "IPY_MODEL_206298539d6747a69b05af9af1371ff7",
            "value": "Loading checkpoint shards: 100%"
          }
        },
        "553486d7afc34234a43aa2b2517621f3": {
          "model_module": "@jupyter-widgets/controls",
          "model_name": "FloatProgressModel",
          "model_module_version": "1.5.0",
          "state": {
            "_dom_classes": [],
            "_model_module": "@jupyter-widgets/controls",
            "_model_module_version": "1.5.0",
            "_model_name": "FloatProgressModel",
            "_view_count": null,
            "_view_module": "@jupyter-widgets/controls",
            "_view_module_version": "1.5.0",
            "_view_name": "ProgressView",
            "bar_style": "success",
            "description": "",
            "description_tooltip": null,
            "layout": "IPY_MODEL_0c61bf764dc14d4c932a035a5f76e117",
            "max": 3,
            "min": 0,
            "orientation": "horizontal",
            "style": "IPY_MODEL_d01f3148641e4ed4adb54b4390ea311d",
            "value": 3
          }
        },
        "54bc775e3d8949cbb2252104a6b10e63": {
          "model_module": "@jupyter-widgets/controls",
          "model_name": "HTMLModel",
          "model_module_version": "1.5.0",
          "state": {
            "_dom_classes": [],
            "_model_module": "@jupyter-widgets/controls",
            "_model_module_version": "1.5.0",
            "_model_name": "HTMLModel",
            "_view_count": null,
            "_view_module": "@jupyter-widgets/controls",
            "_view_module_version": "1.5.0",
            "_view_name": "HTMLView",
            "description": "",
            "description_tooltip": null,
            "layout": "IPY_MODEL_294c8362789a4f21a8a57f9eb52922d4",
            "placeholder": "​",
            "style": "IPY_MODEL_8dc886032af74515ac6d58bd470bf76d",
            "value": " 3/3 [01:13&lt;00:00, 24.39s/it]"
          }
        },
        "db44fb95f2fa4b93bd6ef2dbeb5aeea5": {
          "model_module": "@jupyter-widgets/base",
          "model_name": "LayoutModel",
          "model_module_version": "1.2.0",
          "state": {
            "_model_module": "@jupyter-widgets/base",
            "_model_module_version": "1.2.0",
            "_model_name": "LayoutModel",
            "_view_count": null,
            "_view_module": "@jupyter-widgets/base",
            "_view_module_version": "1.2.0",
            "_view_name": "LayoutView",
            "align_content": null,
            "align_items": null,
            "align_self": null,
            "border": null,
            "bottom": null,
            "display": null,
            "flex": null,
            "flex_flow": null,
            "grid_area": null,
            "grid_auto_columns": null,
            "grid_auto_flow": null,
            "grid_auto_rows": null,
            "grid_column": null,
            "grid_gap": null,
            "grid_row": null,
            "grid_template_areas": null,
            "grid_template_columns": null,
            "grid_template_rows": null,
            "height": null,
            "justify_content": null,
            "justify_items": null,
            "left": null,
            "margin": null,
            "max_height": null,
            "max_width": null,
            "min_height": null,
            "min_width": null,
            "object_fit": null,
            "object_position": null,
            "order": null,
            "overflow": null,
            "overflow_x": null,
            "overflow_y": null,
            "padding": null,
            "right": null,
            "top": null,
            "visibility": null,
            "width": null
          }
        },
        "7e1c8f1e33054af6bb38417d0a0fcb6e": {
          "model_module": "@jupyter-widgets/base",
          "model_name": "LayoutModel",
          "model_module_version": "1.2.0",
          "state": {
            "_model_module": "@jupyter-widgets/base",
            "_model_module_version": "1.2.0",
            "_model_name": "LayoutModel",
            "_view_count": null,
            "_view_module": "@jupyter-widgets/base",
            "_view_module_version": "1.2.0",
            "_view_name": "LayoutView",
            "align_content": null,
            "align_items": null,
            "align_self": null,
            "border": null,
            "bottom": null,
            "display": null,
            "flex": null,
            "flex_flow": null,
            "grid_area": null,
            "grid_auto_columns": null,
            "grid_auto_flow": null,
            "grid_auto_rows": null,
            "grid_column": null,
            "grid_gap": null,
            "grid_row": null,
            "grid_template_areas": null,
            "grid_template_columns": null,
            "grid_template_rows": null,
            "height": null,
            "justify_content": null,
            "justify_items": null,
            "left": null,
            "margin": null,
            "max_height": null,
            "max_width": null,
            "min_height": null,
            "min_width": null,
            "object_fit": null,
            "object_position": null,
            "order": null,
            "overflow": null,
            "overflow_x": null,
            "overflow_y": null,
            "padding": null,
            "right": null,
            "top": null,
            "visibility": null,
            "width": null
          }
        },
        "206298539d6747a69b05af9af1371ff7": {
          "model_module": "@jupyter-widgets/controls",
          "model_name": "DescriptionStyleModel",
          "model_module_version": "1.5.0",
          "state": {
            "_model_module": "@jupyter-widgets/controls",
            "_model_module_version": "1.5.0",
            "_model_name": "DescriptionStyleModel",
            "_view_count": null,
            "_view_module": "@jupyter-widgets/base",
            "_view_module_version": "1.2.0",
            "_view_name": "StyleView",
            "description_width": ""
          }
        },
        "0c61bf764dc14d4c932a035a5f76e117": {
          "model_module": "@jupyter-widgets/base",
          "model_name": "LayoutModel",
          "model_module_version": "1.2.0",
          "state": {
            "_model_module": "@jupyter-widgets/base",
            "_model_module_version": "1.2.0",
            "_model_name": "LayoutModel",
            "_view_count": null,
            "_view_module": "@jupyter-widgets/base",
            "_view_module_version": "1.2.0",
            "_view_name": "LayoutView",
            "align_content": null,
            "align_items": null,
            "align_self": null,
            "border": null,
            "bottom": null,
            "display": null,
            "flex": null,
            "flex_flow": null,
            "grid_area": null,
            "grid_auto_columns": null,
            "grid_auto_flow": null,
            "grid_auto_rows": null,
            "grid_column": null,
            "grid_gap": null,
            "grid_row": null,
            "grid_template_areas": null,
            "grid_template_columns": null,
            "grid_template_rows": null,
            "height": null,
            "justify_content": null,
            "justify_items": null,
            "left": null,
            "margin": null,
            "max_height": null,
            "max_width": null,
            "min_height": null,
            "min_width": null,
            "object_fit": null,
            "object_position": null,
            "order": null,
            "overflow": null,
            "overflow_x": null,
            "overflow_y": null,
            "padding": null,
            "right": null,
            "top": null,
            "visibility": null,
            "width": null
          }
        },
        "d01f3148641e4ed4adb54b4390ea311d": {
          "model_module": "@jupyter-widgets/controls",
          "model_name": "ProgressStyleModel",
          "model_module_version": "1.5.0",
          "state": {
            "_model_module": "@jupyter-widgets/controls",
            "_model_module_version": "1.5.0",
            "_model_name": "ProgressStyleModel",
            "_view_count": null,
            "_view_module": "@jupyter-widgets/base",
            "_view_module_version": "1.2.0",
            "_view_name": "StyleView",
            "bar_color": null,
            "description_width": ""
          }
        },
        "294c8362789a4f21a8a57f9eb52922d4": {
          "model_module": "@jupyter-widgets/base",
          "model_name": "LayoutModel",
          "model_module_version": "1.2.0",
          "state": {
            "_model_module": "@jupyter-widgets/base",
            "_model_module_version": "1.2.0",
            "_model_name": "LayoutModel",
            "_view_count": null,
            "_view_module": "@jupyter-widgets/base",
            "_view_module_version": "1.2.0",
            "_view_name": "LayoutView",
            "align_content": null,
            "align_items": null,
            "align_self": null,
            "border": null,
            "bottom": null,
            "display": null,
            "flex": null,
            "flex_flow": null,
            "grid_area": null,
            "grid_auto_columns": null,
            "grid_auto_flow": null,
            "grid_auto_rows": null,
            "grid_column": null,
            "grid_gap": null,
            "grid_row": null,
            "grid_template_areas": null,
            "grid_template_columns": null,
            "grid_template_rows": null,
            "height": null,
            "justify_content": null,
            "justify_items": null,
            "left": null,
            "margin": null,
            "max_height": null,
            "max_width": null,
            "min_height": null,
            "min_width": null,
            "object_fit": null,
            "object_position": null,
            "order": null,
            "overflow": null,
            "overflow_x": null,
            "overflow_y": null,
            "padding": null,
            "right": null,
            "top": null,
            "visibility": null,
            "width": null
          }
        },
        "8dc886032af74515ac6d58bd470bf76d": {
          "model_module": "@jupyter-widgets/controls",
          "model_name": "DescriptionStyleModel",
          "model_module_version": "1.5.0",
          "state": {
            "_model_module": "@jupyter-widgets/controls",
            "_model_module_version": "1.5.0",
            "_model_name": "DescriptionStyleModel",
            "_view_count": null,
            "_view_module": "@jupyter-widgets/base",
            "_view_module_version": "1.2.0",
            "_view_name": "StyleView",
            "description_width": ""
          }
        }
      }
    },
    "accelerator": "GPU"
  },
  "cells": [
    {
      "cell_type": "markdown",
      "metadata": {
        "id": "view-in-github",
        "colab_type": "text"
      },
      "source": [
        "<a href=\"https://colab.research.google.com/github/fatemafaria142/Exploration-of-Large-Language-Models-in-Mental-Health-Advice-Generation/blob/main/Mental_Health_Advice_Generation_using_openchat_3_5_1210_and_LangChain.ipynb\" target=\"_parent\"><img src=\"https://colab.research.google.com/assets/colab-badge.svg\" alt=\"Open In Colab\"/></a>"
      ]
    },
    {
      "cell_type": "markdown",
      "source": [
        "### **Install Required Packages**"
      ],
      "metadata": {
        "id": "iEkm_Q9AGgTX"
      }
    },
    {
      "cell_type": "code",
      "source": [
        "!pip install accelerate peft bitsandbytes transformers trl datasets torch langchain"
      ],
      "metadata": {
        "colab": {
          "base_uri": "https://localhost:8080/"
        },
        "id": "sp-9Dpjn8fAD",
        "outputId": "b2a8db57-c509-46a9-dafc-5684a574af1a"
      },
      "execution_count": null,
      "outputs": [
        {
          "output_type": "stream",
          "name": "stdout",
          "text": [
            "Requirement already satisfied: accelerate in /usr/local/lib/python3.10/dist-packages (0.26.1)\n",
            "Requirement already satisfied: peft in /usr/local/lib/python3.10/dist-packages (0.7.1)\n",
            "Requirement already satisfied: bitsandbytes in /usr/local/lib/python3.10/dist-packages (0.42.0)\n",
            "Requirement already satisfied: transformers in /usr/local/lib/python3.10/dist-packages (4.35.2)\n",
            "Requirement already satisfied: trl in /usr/local/lib/python3.10/dist-packages (0.7.10)\n",
            "Requirement already satisfied: datasets in /usr/local/lib/python3.10/dist-packages (2.16.1)\n",
            "Requirement already satisfied: torch in /usr/local/lib/python3.10/dist-packages (2.1.0+cu121)\n",
            "Requirement already satisfied: langchain in /usr/local/lib/python3.10/dist-packages (0.1.3)\n",
            "Requirement already satisfied: numpy>=1.17 in /usr/local/lib/python3.10/dist-packages (from accelerate) (1.23.5)\n",
            "Requirement already satisfied: packaging>=20.0 in /usr/local/lib/python3.10/dist-packages (from accelerate) (23.2)\n",
            "Requirement already satisfied: psutil in /usr/local/lib/python3.10/dist-packages (from accelerate) (5.9.5)\n",
            "Requirement already satisfied: pyyaml in /usr/local/lib/python3.10/dist-packages (from accelerate) (6.0.1)\n",
            "Requirement already satisfied: huggingface-hub in /usr/local/lib/python3.10/dist-packages (from accelerate) (0.20.3)\n",
            "Requirement already satisfied: safetensors>=0.3.1 in /usr/local/lib/python3.10/dist-packages (from accelerate) (0.4.1)\n",
            "Requirement already satisfied: tqdm in /usr/local/lib/python3.10/dist-packages (from peft) (4.66.1)\n",
            "Requirement already satisfied: scipy in /usr/local/lib/python3.10/dist-packages (from bitsandbytes) (1.11.4)\n",
            "Requirement already satisfied: filelock in /usr/local/lib/python3.10/dist-packages (from transformers) (3.13.1)\n",
            "Requirement already satisfied: regex!=2019.12.17 in /usr/local/lib/python3.10/dist-packages (from transformers) (2023.6.3)\n",
            "Requirement already satisfied: requests in /usr/local/lib/python3.10/dist-packages (from transformers) (2.31.0)\n",
            "Requirement already satisfied: tokenizers<0.19,>=0.14 in /usr/local/lib/python3.10/dist-packages (from transformers) (0.15.1)\n",
            "Requirement already satisfied: tyro>=0.5.11 in /usr/local/lib/python3.10/dist-packages (from trl) (0.7.0)\n",
            "Requirement already satisfied: pyarrow>=8.0.0 in /usr/local/lib/python3.10/dist-packages (from datasets) (10.0.1)\n",
            "Requirement already satisfied: pyarrow-hotfix in /usr/local/lib/python3.10/dist-packages (from datasets) (0.6)\n",
            "Requirement already satisfied: dill<0.3.8,>=0.3.0 in /usr/local/lib/python3.10/dist-packages (from datasets) (0.3.7)\n",
            "Requirement already satisfied: pandas in /usr/local/lib/python3.10/dist-packages (from datasets) (1.5.3)\n",
            "Requirement already satisfied: xxhash in /usr/local/lib/python3.10/dist-packages (from datasets) (3.4.1)\n",
            "Requirement already satisfied: multiprocess in /usr/local/lib/python3.10/dist-packages (from datasets) (0.70.15)\n",
            "Requirement already satisfied: fsspec[http]<=2023.10.0,>=2023.1.0 in /usr/local/lib/python3.10/dist-packages (from datasets) (2023.6.0)\n",
            "Requirement already satisfied: aiohttp in /usr/local/lib/python3.10/dist-packages (from datasets) (3.9.1)\n",
            "Requirement already satisfied: typing-extensions in /usr/local/lib/python3.10/dist-packages (from torch) (4.5.0)\n",
            "Requirement already satisfied: sympy in /usr/local/lib/python3.10/dist-packages (from torch) (1.12)\n",
            "Requirement already satisfied: networkx in /usr/local/lib/python3.10/dist-packages (from torch) (3.2.1)\n",
            "Requirement already satisfied: jinja2 in /usr/local/lib/python3.10/dist-packages (from torch) (3.1.3)\n",
            "Requirement already satisfied: triton==2.1.0 in /usr/local/lib/python3.10/dist-packages (from torch) (2.1.0)\n",
            "Requirement already satisfied: SQLAlchemy<3,>=1.4 in /usr/local/lib/python3.10/dist-packages (from langchain) (2.0.24)\n",
            "Requirement already satisfied: async-timeout<5.0.0,>=4.0.0 in /usr/local/lib/python3.10/dist-packages (from langchain) (4.0.3)\n",
            "Requirement already satisfied: dataclasses-json<0.7,>=0.5.7 in /usr/local/lib/python3.10/dist-packages (from langchain) (0.6.3)\n",
            "Requirement already satisfied: jsonpatch<2.0,>=1.33 in /usr/local/lib/python3.10/dist-packages (from langchain) (1.33)\n",
            "Requirement already satisfied: langchain-community<0.1,>=0.0.14 in /usr/local/lib/python3.10/dist-packages (from langchain) (0.0.15)\n",
            "Requirement already satisfied: langchain-core<0.2,>=0.1.14 in /usr/local/lib/python3.10/dist-packages (from langchain) (0.1.15)\n",
            "Requirement already satisfied: langsmith<0.1,>=0.0.83 in /usr/local/lib/python3.10/dist-packages (from langchain) (0.0.83)\n",
            "Requirement already satisfied: pydantic<3,>=1 in /usr/local/lib/python3.10/dist-packages (from langchain) (1.10.14)\n",
            "Requirement already satisfied: tenacity<9.0.0,>=8.1.0 in /usr/local/lib/python3.10/dist-packages (from langchain) (8.2.3)\n",
            "Requirement already satisfied: attrs>=17.3.0 in /usr/local/lib/python3.10/dist-packages (from aiohttp->datasets) (23.2.0)\n",
            "Requirement already satisfied: multidict<7.0,>=4.5 in /usr/local/lib/python3.10/dist-packages (from aiohttp->datasets) (6.0.4)\n",
            "Requirement already satisfied: yarl<2.0,>=1.0 in /usr/local/lib/python3.10/dist-packages (from aiohttp->datasets) (1.9.4)\n",
            "Requirement already satisfied: frozenlist>=1.1.1 in /usr/local/lib/python3.10/dist-packages (from aiohttp->datasets) (1.4.1)\n",
            "Requirement already satisfied: aiosignal>=1.1.2 in /usr/local/lib/python3.10/dist-packages (from aiohttp->datasets) (1.3.1)\n",
            "Requirement already satisfied: marshmallow<4.0.0,>=3.18.0 in /usr/local/lib/python3.10/dist-packages (from dataclasses-json<0.7,>=0.5.7->langchain) (3.20.2)\n",
            "Requirement already satisfied: typing-inspect<1,>=0.4.0 in /usr/local/lib/python3.10/dist-packages (from dataclasses-json<0.7,>=0.5.7->langchain) (0.9.0)\n",
            "Requirement already satisfied: jsonpointer>=1.9 in /usr/local/lib/python3.10/dist-packages (from jsonpatch<2.0,>=1.33->langchain) (2.4)\n",
            "Requirement already satisfied: anyio<5,>=3 in /usr/local/lib/python3.10/dist-packages (from langchain-core<0.2,>=0.1.14->langchain) (3.7.1)\n",
            "Requirement already satisfied: charset-normalizer<4,>=2 in /usr/local/lib/python3.10/dist-packages (from requests->transformers) (3.3.2)\n",
            "Requirement already satisfied: idna<4,>=2.5 in /usr/local/lib/python3.10/dist-packages (from requests->transformers) (3.6)\n",
            "Requirement already satisfied: urllib3<3,>=1.21.1 in /usr/local/lib/python3.10/dist-packages (from requests->transformers) (2.0.7)\n",
            "Requirement already satisfied: certifi>=2017.4.17 in /usr/local/lib/python3.10/dist-packages (from requests->transformers) (2023.11.17)\n",
            "Requirement already satisfied: greenlet!=0.4.17 in /usr/local/lib/python3.10/dist-packages (from SQLAlchemy<3,>=1.4->langchain) (3.0.3)\n",
            "Requirement already satisfied: docstring-parser>=0.14.1 in /usr/local/lib/python3.10/dist-packages (from tyro>=0.5.11->trl) (0.15)\n",
            "Requirement already satisfied: rich>=11.1.0 in /usr/local/lib/python3.10/dist-packages (from tyro>=0.5.11->trl) (13.7.0)\n",
            "Requirement already satisfied: shtab>=1.5.6 in /usr/local/lib/python3.10/dist-packages (from tyro>=0.5.11->trl) (1.6.5)\n",
            "Requirement already satisfied: MarkupSafe>=2.0 in /usr/local/lib/python3.10/dist-packages (from jinja2->torch) (2.1.4)\n",
            "Requirement already satisfied: python-dateutil>=2.8.1 in /usr/local/lib/python3.10/dist-packages (from pandas->datasets) (2.8.2)\n",
            "Requirement already satisfied: pytz>=2020.1 in /usr/local/lib/python3.10/dist-packages (from pandas->datasets) (2023.3.post1)\n",
            "Requirement already satisfied: mpmath>=0.19 in /usr/local/lib/python3.10/dist-packages (from sympy->torch) (1.3.0)\n",
            "Requirement already satisfied: sniffio>=1.1 in /usr/local/lib/python3.10/dist-packages (from anyio<5,>=3->langchain-core<0.2,>=0.1.14->langchain) (1.3.0)\n",
            "Requirement already satisfied: exceptiongroup in /usr/local/lib/python3.10/dist-packages (from anyio<5,>=3->langchain-core<0.2,>=0.1.14->langchain) (1.2.0)\n",
            "Requirement already satisfied: six>=1.5 in /usr/local/lib/python3.10/dist-packages (from python-dateutil>=2.8.1->pandas->datasets) (1.16.0)\n",
            "Requirement already satisfied: markdown-it-py>=2.2.0 in /usr/local/lib/python3.10/dist-packages (from rich>=11.1.0->tyro>=0.5.11->trl) (3.0.0)\n",
            "Requirement already satisfied: pygments<3.0.0,>=2.13.0 in /usr/local/lib/python3.10/dist-packages (from rich>=11.1.0->tyro>=0.5.11->trl) (2.16.1)\n",
            "Requirement already satisfied: mypy-extensions>=0.3.0 in /usr/local/lib/python3.10/dist-packages (from typing-inspect<1,>=0.4.0->dataclasses-json<0.7,>=0.5.7->langchain) (1.0.0)\n",
            "Requirement already satisfied: mdurl~=0.1 in /usr/local/lib/python3.10/dist-packages (from markdown-it-py>=2.2.0->rich>=11.1.0->tyro>=0.5.11->trl) (0.1.2)\n"
          ]
        }
      ]
    },
    {
      "cell_type": "markdown",
      "source": [
        "#### **Dataset Link:** https://huggingface.co/datasets/Amod/mental_health_counseling_conversations"
      ],
      "metadata": {
        "id": "ck_5U-vIq7zW"
      }
    },
    {
      "cell_type": "code",
      "source": [
        "from datasets import load_dataset\n",
        "\n",
        "# Load the dataset\n",
        "instruct_tune_dataset = load_dataset(\"Amod/mental_health_counseling_conversations\")\n",
        "\n",
        "# Select 3000 rows for training\n",
        "train_subset = instruct_tune_dataset[\"train\"].select(indices=range(3000))\n",
        "\n",
        "# Select the rest for testing\n",
        "test_subset = instruct_tune_dataset[\"train\"].select(indices=range(3000, len(instruct_tune_dataset[\"train\"])))\n"
      ],
      "metadata": {
        "id": "DI1G_zS8PWh9"
      },
      "execution_count": 96,
      "outputs": []
    },
    {
      "cell_type": "code",
      "source": [
        "train_subset"
      ],
      "metadata": {
        "colab": {
          "base_uri": "https://localhost:8080/"
        },
        "id": "9fV3n8APPJM7",
        "outputId": "043b0d95-9073-4a96-9a76-7ada16a9cd19"
      },
      "execution_count": 97,
      "outputs": [
        {
          "output_type": "execute_result",
          "data": {
            "text/plain": [
              "Dataset({\n",
              "    features: ['Context', 'Response'],\n",
              "    num_rows: 3000\n",
              "})"
            ]
          },
          "metadata": {},
          "execution_count": 97
        }
      ]
    },
    {
      "cell_type": "code",
      "source": [
        "test_subset"
      ],
      "metadata": {
        "colab": {
          "base_uri": "https://localhost:8080/"
        },
        "id": "x7NmbbNKPK_6",
        "outputId": "29ba7ba2-1600-460f-cce6-c2bdfd074812"
      },
      "execution_count": 98,
      "outputs": [
        {
          "output_type": "execute_result",
          "data": {
            "text/plain": [
              "Dataset({\n",
              "    features: ['Context', 'Response'],\n",
              "    num_rows: 512\n",
              "})"
            ]
          },
          "metadata": {},
          "execution_count": 98
        }
      ]
    },
    {
      "cell_type": "code",
      "source": [
        "# Check the sizes of the subsets\n",
        "print(\"Train subset size:\", len(train_subset))\n",
        "print(\"Test subset size:\", len(test_subset))"
      ],
      "metadata": {
        "colab": {
          "base_uri": "https://localhost:8080/"
        },
        "id": "8-d_QhZsD2Pu",
        "outputId": "d41e4c66-f763-408b-9dd0-31f34a99dd12"
      },
      "execution_count": 99,
      "outputs": [
        {
          "output_type": "stream",
          "name": "stdout",
          "text": [
            "Train subset size: 3000\n",
            "Test subset size: 512\n"
          ]
        }
      ]
    },
    {
      "cell_type": "code",
      "source": [
        "# Show 5 examples from the train dataset\n",
        "print(\"Train subset examples:\")\n",
        "for i in range(5):\n",
        "    context = train_subset['Context'][i]\n",
        "    response = train_subset['Response'][i]\n",
        "    print(f\"Example {i + 1}:\")\n",
        "    print(f\"Context: {context}\")\n",
        "    print(f\"Response: {response}\")\n",
        "    print(\"-------------------\")"
      ],
      "metadata": {
        "colab": {
          "base_uri": "https://localhost:8080/"
        },
        "id": "WUiuMQeYD5vm",
        "outputId": "d318a944-2206-406d-eab4-c25388b5ae13"
      },
      "execution_count": 100,
      "outputs": [
        {
          "output_type": "stream",
          "name": "stdout",
          "text": [
            "Train subset examples:\n",
            "Example 1:\n",
            "Context: I'm going through some things with my feelings and myself. I barely sleep and I do nothing but think about how I'm worthless and how I shouldn't be here.\n",
            "   I've never tried or contemplated suicide. I've always wanted to fix my issues, but I never get around to it.\n",
            "   How can I change my feeling of being worthless to everyone?\n",
            "Response: If everyone thinks you're worthless, then maybe you need to find new people to hang out with.Seriously, the social context in which a person lives is a big influence in self-esteem.Otherwise, you can go round and round trying to understand why you're not worthless, then go back to the same crowd and be knocked down again.There are many inspirational messages you can find in social media.  Maybe read some of the ones which state that no person is worthless, and that everyone has a good purpose to their life.Also, since our culture is so saturated with the belief that if someone doesn't feel good about themselves that this is somehow terrible.Bad feelings are part of living.  They are the motivation to remove ourselves from situations and relationships which do us more harm than good.Bad feelings do feel terrible.   Your feeling of worthlessness may be good in the sense of motivating you to find out that you are much better than your feelings today.\n",
            "-------------------\n",
            "Example 2:\n",
            "Context: I'm going through some things with my feelings and myself. I barely sleep and I do nothing but think about how I'm worthless and how I shouldn't be here.\n",
            "   I've never tried or contemplated suicide. I've always wanted to fix my issues, but I never get around to it.\n",
            "   How can I change my feeling of being worthless to everyone?\n",
            "Response: Hello, and thank you for your question and seeking advice on this. Feelings of worthlessness is unfortunately common. In fact, most people, if not all, have felt this to some degree at some point in their life. You are not alone. Changing our feelings is like changing our thoughts - it's hard to do. Our minds are so amazing that the minute you change your thought another one can be right there to take it's place. Without your permission, another thought can just pop in there. The new thought may feel worse than the last one! My guess is that you have tried several things to improve this on your own even before reaching out on here. People often try thinking positive thoughts, debating with their thoughts, or simply telling themselves that they need to \"snap out of it\" - which is also a thought that carries some self-criticism. Some people try a different approach, and there are counselors out there that can help you with this. The idea is that instead of trying to change the thoughts, you change how you respond to them. You learn skills that allow you to manage difficult thoughts and feelings differently so they don't have the same impact on you that they do right now. For some people, they actually DO begin to experience less hurtful thoughts once they learn how to manage the ones they have differently. Acceptance and Commitment Therapy may be a good choice for you. There is information online and even self-help books that you can use to teach you the skills that I mentioned. Because they are skills, they require practice, but many people have found great relief and an enriched life by learning them. As for suicidal thoughts, I am very glad to read that this has not happened to you. Still, you should watch out for this because it can be a sign of a worsening depression. If you begin to think about this, it is important to reach out to a support system right away. The National Suicide Prevention Lifeline is 1-800-273-8255. The text line is #741741. I hope some other colleagues will provide you more suggestions. Be well...Robin Landwehr, DBH, LPCC\n",
            "-------------------\n",
            "Example 3:\n",
            "Context: I'm going through some things with my feelings and myself. I barely sleep and I do nothing but think about how I'm worthless and how I shouldn't be here.\n",
            "   I've never tried or contemplated suicide. I've always wanted to fix my issues, but I never get around to it.\n",
            "   How can I change my feeling of being worthless to everyone?\n",
            "Response: First thing I'd suggest is getting the sleep you need or it will impact how you think and feel. I'd look at finding what is going well in your life and what you can be grateful for. I believe everyone has talents and wants to find their purpose in life. I think you can figure it out with some help.\n",
            "-------------------\n",
            "Example 4:\n",
            "Context: I'm going through some things with my feelings and myself. I barely sleep and I do nothing but think about how I'm worthless and how I shouldn't be here.\n",
            "   I've never tried or contemplated suicide. I've always wanted to fix my issues, but I never get around to it.\n",
            "   How can I change my feeling of being worthless to everyone?\n",
            "Response: Therapy is essential for those that are feeling depressed and worthless. When I work with those that are experiencing concerns related to feeling of depression and issues with self esteem. I generally work with my client to help build coping skills to reduce level of depression and to assist with strengthening  self esteem, by guiding my client with CBT practices. CBT helps with gaining a better awareness of how your thought process influences your belief system, and how your beliefs impact your actions and the outcome of your behaviors.  This process isn’t easy but it helps teach an individual that we don’t always have control over what happens in our lives but we can control how we interpret, feel, and behave. CBT is good for individuals dealing with depression, anxiety, toxic relationships, stress, self esteem, codependency, etc.\n",
            "-------------------\n",
            "Example 5:\n",
            "Context: I'm going through some things with my feelings and myself. I barely sleep and I do nothing but think about how I'm worthless and how I shouldn't be here.\n",
            "   I've never tried or contemplated suicide. I've always wanted to fix my issues, but I never get around to it.\n",
            "   How can I change my feeling of being worthless to everyone?\n",
            "Response: I first want to let you know that you are not alone in your feelings and there is always someone there to help. You can always change your feelings and change your way of thinking by being open to trying to change. You can always make yourself available to learning new things or volunteering so that you can make a purpose for yourself.\n",
            "-------------------\n"
          ]
        }
      ]
    },
    {
      "cell_type": "code",
      "source": [
        "# Show 5 examples from the test dataset\n",
        "print(\"\\nTest subset examples:\")\n",
        "for i in range(5):\n",
        "    context = test_subset['Context'][i]\n",
        "    response = test_subset['Response'][i]\n",
        "    print(f\"Example {i + 1}:\")\n",
        "    print(f\"Context: {context}\")\n",
        "    print(f\"Response: {response}\")\n",
        "    print(\"-------------------\")"
      ],
      "metadata": {
        "colab": {
          "base_uri": "https://localhost:8080/"
        },
        "id": "JqmZtXSqEIQd",
        "outputId": "7d25a549-330f-4258-f826-6f87ea5971f7"
      },
      "execution_count": 101,
      "outputs": [
        {
          "output_type": "stream",
          "name": "stdout",
          "text": [
            "\n",
            "Test subset examples:\n",
            "Example 1:\n",
            "Context: I had to put a restraining order against my ex-fiancé. He was served last night. He was mentally and verbally abusive towards me. I thought it was my nerves, but every time I stand up, I get sick. If I sit and rock, I'm fine.\n",
            "Response: Hello, and thank you for your question. You may be right, your physical symptoms of getting sick to your stomach may very well be your nerves or anxiety. That is totally normal and understandable given your circumstances. Another thing that is not unusual is that you feel better when you sit and rock. That is actually a fairly common way that many people comfort themselves in times of high stress. If you are concerned that there is an actual physical illness causing these symptoms, you may want to visit your primary care provider. They may tell you that they don't see anything physically wrong with you, and at that point you may want to visit a counselor about the symptoms and your relationship experience. A visit with a counselor may be a good idea either way. I work as a counselor in primary care, and I promise you that many people have very real physical symptoms when they have gone through abuse. Unexplainable stomach and headaches are very common. Sometimes, with counseling, those physical symptoms actually stop. Be well, and I hope you feel better soon.Robin J. Landwehr, DBH, LPCC, NCC \n",
            "-------------------\n",
            "Example 2:\n",
            "Context: I’m trying to make marriage work after a split. Before our split, he lied a lot and broke every promise to me. I don't think he cheated. Last month, I asked what women work with him, so he told me. Yesterday, I found out about a girl that he said he forgot about. Should I be upset?\n",
            "Response: I would ask you first what made you give him another chance after he repeatedly lied and broke every promise to you?  I would imagine if he repeatedly lied to you that it will damage your ability to trust him now.  Is he in therapy? Does he recognize that he has a problem and is he trying to repair it?  Even if he truly forgot to tell you about the woman at work I think the real issue here is TRUST.  I am not saying that he doesn't have a lying problem.  Instead of asking someone else if you should be upset, ask yourself how you truly feel about him and this situation.  \n",
            "-------------------\n",
            "Example 3:\n",
            "Context: My fiancé and I broke up. He cheated on me numerous times. I kept forgiving but questioning his every move. He got tired and left.\n",
            "Response: if he as cheated on you multiple times it is not healthy for you to continue seeing him.  However It takes time to heal your pain. You are not a robot that can just switch off your emotions.  Please surround yourself with people who can support and empower you. \n",
            "-------------------\n",
            "Example 4:\n",
            "Context: She has lied about every aspect of her life. She's created three fake relationships. The most recent one is concerning because she has fake photos, phone calls, and text messages, and it’s with a married man with kids. Her lying is becoming dangerous because she could ruin lives.\n",
            "Response: Have an honest and open conversation with her about how her behavior is negatively impacting you ( and others).  You will feel good knowing you did the right thing.  \n",
            "-------------------\n",
            "Example 5:\n",
            "Context: I'm a teenage gay girl, and I'm in love with a girl a few years older than me. She loves me too, but we're not physically together at the moment. I've been thinking about being transgender soon too, but my family doesn't accept me, so I honestly don't know what to do about that because I feel like I have to constantly hide the real me. It hurts so much to hide the real me. What can I do?\n",
            "Response: They would probably be helpful to speak with a local mental health professional about this, not because there's anything wrong with the real you, but because having these conversations can be difficult and you may choose to talk about your real self in different ways with different people.Maybe you could talk about your concerns with your significant other and discuss different ways you may be able to discuss your relationship that fit with how each of you defines your love for one another.Because you are saying openly that you are gay, and it sounds like you already identify yourself as gay, as compared to considering being transgender \"soon,\" it may be worth considering disclosing the fact that you are gay now and disclosing the idea that you are transgender after you have worked through that yourself. I would like for you to be able to be true to yourself and show the real you. It could also be that you already know that you are transgender, but with the way that you  phrased it here, I'm not certain.Here is a link to a hotline that you may want to consider using. The Trevor Project is about helping teenagers who identify as LGBTQ: http://www.thetrevorproject.org/Here is another national site where you may be able to find a local chapter: https://www.pflag.org/I don't know what you mean when you said that your family will not accept you, but since you are concerned about your family's reaction, I would suggest that it may be helpful to have a therapist or some other support in place before telling your family. The decision of whether or not to wait longer to tell them is ultimately yours, but I wonder if you have a likelihood of explaining what you are experiencing in a way that would be truer to you and also perhaps easier for your family to follow if you had time to process it with supportive people first.Please remember that you are not alone in this. There are people in the world who can and will accept you for who you are.\n",
            "-------------------\n"
          ]
        }
      ]
    },
    {
      "cell_type": "markdown",
      "source": [
        "#### **Creating a Mental Health Support Prompt Using LangChain**"
      ],
      "metadata": {
        "id": "GsrE4Py-NOfv"
      }
    },
    {
      "cell_type": "code",
      "source": [
        "from langchain import PromptTemplate, LLMChain\n",
        "\n",
        "def create_prompt(sample):\n",
        "    # Create a sample prompt template\n",
        "    template = \"\"\"GPT4 Correct User: Put yourself in the shoes of a thoughtful mental health counselor. Imagine you're all set to help with kindness and understanding, ready to offer care and support. Your task is to extend understanding and guidance, providing support to individuals dealing with mental health challenges. Here is my mental health problems: {context}<|end_of_turn|>\n",
        "GPT4 Correct Assistant: {response}<|end_of_turn|>\n",
        "\"\"\"\n",
        "\n",
        "    # Extract context and response from the sample\n",
        "    example_context = sample['Context']\n",
        "    example_response = sample['Response']\n",
        "\n",
        "    # Create a prompt using the template and the example\n",
        "    prompt_template = PromptTemplate(template=template, input_variables=[\"context\", \"response\"])\n",
        "    single_turn_prompt = prompt_template.format(context=example_context, response=example_response)\n",
        "\n",
        "    return single_turn_prompt"
      ],
      "metadata": {
        "id": "ODT1bEaqNnUt"
      },
      "execution_count": 117,
      "outputs": []
    },
    {
      "cell_type": "markdown",
      "source": [
        "#### **Generating LangChain Prompt for a Training Subset Examples**"
      ],
      "metadata": {
        "id": "UlGNZwpBp_As"
      }
    },
    {
      "cell_type": "code",
      "source": [
        "prompt = create_prompt(train_subset[0])\n",
        "print(prompt)"
      ],
      "metadata": {
        "colab": {
          "base_uri": "https://localhost:8080/"
        },
        "id": "LuyCQOOdLnci",
        "outputId": "ee9c215a-baf5-464e-fb22-b858347bccc9"
      },
      "execution_count": 118,
      "outputs": [
        {
          "output_type": "stream",
          "name": "stdout",
          "text": [
            "GPT4 Correct User: Put yourself in the shoes of a thoughtful mental health counselor. Imagine you're all set to help with kindness and understanding, ready to offer care and support. Your task is to extend understanding and guidance, providing support to individuals dealing with mental health challenges. Here is my mental health problems: I'm going through some things with my feelings and myself. I barely sleep and I do nothing but think about how I'm worthless and how I shouldn't be here.\n",
            "   I've never tried or contemplated suicide. I've always wanted to fix my issues, but I never get around to it.\n",
            "   How can I change my feeling of being worthless to everyone?<|end_of_turn|>\n",
            "GPT4 Correct Assistant: If everyone thinks you're worthless, then maybe you need to find new people to hang out with.Seriously, the social context in which a person lives is a big influence in self-esteem.Otherwise, you can go round and round trying to understand why you're not worthless, then go back to the same crowd and be knocked down again.There are many inspirational messages you can find in social media.  Maybe read some of the ones which state that no person is worthless, and that everyone has a good purpose to their life.Also, since our culture is so saturated with the belief that if someone doesn't feel good about themselves that this is somehow terrible.Bad feelings are part of living.  They are the motivation to remove ourselves from situations and relationships which do us more harm than good.Bad feelings do feel terrible.   Your feeling of worthlessness may be good in the sense of motivating you to find out that you are much better than your feelings today.<|end_of_turn|>\n",
            "\n"
          ]
        }
      ]
    },
    {
      "cell_type": "code",
      "source": [
        "prompt = create_prompt(train_subset[1])\n",
        "print(prompt)"
      ],
      "metadata": {
        "colab": {
          "base_uri": "https://localhost:8080/"
        },
        "id": "evwVwgBAQnQs",
        "outputId": "2a6a350a-8347-421e-d26b-0aed3d07b297"
      },
      "execution_count": 119,
      "outputs": [
        {
          "output_type": "stream",
          "name": "stdout",
          "text": [
            "GPT4 Correct User: Put yourself in the shoes of a thoughtful mental health counselor. Imagine you're all set to help with kindness and understanding, ready to offer care and support. Your task is to extend understanding and guidance, providing support to individuals dealing with mental health challenges. Here is my mental health problems: I'm going through some things with my feelings and myself. I barely sleep and I do nothing but think about how I'm worthless and how I shouldn't be here.\n",
            "   I've never tried or contemplated suicide. I've always wanted to fix my issues, but I never get around to it.\n",
            "   How can I change my feeling of being worthless to everyone?<|end_of_turn|>\n",
            "GPT4 Correct Assistant: Hello, and thank you for your question and seeking advice on this. Feelings of worthlessness is unfortunately common. In fact, most people, if not all, have felt this to some degree at some point in their life. You are not alone. Changing our feelings is like changing our thoughts - it's hard to do. Our minds are so amazing that the minute you change your thought another one can be right there to take it's place. Without your permission, another thought can just pop in there. The new thought may feel worse than the last one! My guess is that you have tried several things to improve this on your own even before reaching out on here. People often try thinking positive thoughts, debating with their thoughts, or simply telling themselves that they need to \"snap out of it\" - which is also a thought that carries some self-criticism. Some people try a different approach, and there are counselors out there that can help you with this. The idea is that instead of trying to change the thoughts, you change how you respond to them. You learn skills that allow you to manage difficult thoughts and feelings differently so they don't have the same impact on you that they do right now. For some people, they actually DO begin to experience less hurtful thoughts once they learn how to manage the ones they have differently. Acceptance and Commitment Therapy may be a good choice for you. There is information online and even self-help books that you can use to teach you the skills that I mentioned. Because they are skills, they require practice, but many people have found great relief and an enriched life by learning them. As for suicidal thoughts, I am very glad to read that this has not happened to you. Still, you should watch out for this because it can be a sign of a worsening depression. If you begin to think about this, it is important to reach out to a support system right away. The National Suicide Prevention Lifeline is 1-800-273-8255. The text line is #741741. I hope some other colleagues will provide you more suggestions. Be well...Robin Landwehr, DBH, LPCC<|end_of_turn|>\n",
            "\n"
          ]
        }
      ]
    },
    {
      "cell_type": "code",
      "source": [
        "prompt = create_prompt(train_subset[2])\n",
        "print(prompt)"
      ],
      "metadata": {
        "colab": {
          "base_uri": "https://localhost:8080/"
        },
        "id": "xTz5vN9AQIZ0",
        "outputId": "88a395e8-a7df-4ecf-d5c2-dd5ef902bfd9"
      },
      "execution_count": 121,
      "outputs": [
        {
          "output_type": "stream",
          "name": "stdout",
          "text": [
            "GPT4 Correct User: Put yourself in the shoes of a thoughtful mental health counselor. Imagine you're all set to help with kindness and understanding, ready to offer care and support. Your task is to extend understanding and guidance, providing support to individuals dealing with mental health challenges. Here is my mental health problems: I'm going through some things with my feelings and myself. I barely sleep and I do nothing but think about how I'm worthless and how I shouldn't be here.\n",
            "   I've never tried or contemplated suicide. I've always wanted to fix my issues, but I never get around to it.\n",
            "   How can I change my feeling of being worthless to everyone?<|end_of_turn|>\n",
            "GPT4 Correct Assistant: First thing I'd suggest is getting the sleep you need or it will impact how you think and feel. I'd look at finding what is going well in your life and what you can be grateful for. I believe everyone has talents and wants to find their purpose in life. I think you can figure it out with some help.<|end_of_turn|>\n",
            "\n"
          ]
        }
      ]
    },
    {
      "cell_type": "markdown",
      "source": [
        "#### **Generating LangChain Prompt for a Testing Subset Examples**"
      ],
      "metadata": {
        "id": "CAVNLGRbqPTB"
      }
    },
    {
      "cell_type": "code",
      "source": [
        "prompt = create_prompt(test_subset[0])\n",
        "print(prompt)"
      ],
      "metadata": {
        "colab": {
          "base_uri": "https://localhost:8080/"
        },
        "id": "tSyvpJ3MQy2V",
        "outputId": "02eb2ce1-1e2f-4071-b048-7265c433fe77"
      },
      "execution_count": 122,
      "outputs": [
        {
          "output_type": "stream",
          "name": "stdout",
          "text": [
            "GPT4 Correct User: Put yourself in the shoes of a thoughtful mental health counselor. Imagine you're all set to help with kindness and understanding, ready to offer care and support. Your task is to extend understanding and guidance, providing support to individuals dealing with mental health challenges. Here is my mental health problems: I had to put a restraining order against my ex-fiancé. He was served last night. He was mentally and verbally abusive towards me. I thought it was my nerves, but every time I stand up, I get sick. If I sit and rock, I'm fine.<|end_of_turn|>\n",
            "GPT4 Correct Assistant: Hello, and thank you for your question. You may be right, your physical symptoms of getting sick to your stomach may very well be your nerves or anxiety. That is totally normal and understandable given your circumstances. Another thing that is not unusual is that you feel better when you sit and rock. That is actually a fairly common way that many people comfort themselves in times of high stress. If you are concerned that there is an actual physical illness causing these symptoms, you may want to visit your primary care provider. They may tell you that they don't see anything physically wrong with you, and at that point you may want to visit a counselor about the symptoms and your relationship experience. A visit with a counselor may be a good idea either way. I work as a counselor in primary care, and I promise you that many people have very real physical symptoms when they have gone through abuse. Unexplainable stomach and headaches are very common. Sometimes, with counseling, those physical symptoms actually stop. Be well, and I hope you feel better soon.Robin J. Landwehr, DBH, LPCC, NCC <|end_of_turn|>\n",
            "\n"
          ]
        }
      ]
    },
    {
      "cell_type": "code",
      "source": [
        "prompt = create_prompt(test_subset[1])\n",
        "print(prompt)"
      ],
      "metadata": {
        "colab": {
          "base_uri": "https://localhost:8080/"
        },
        "id": "YWFQoChcQ1W5",
        "outputId": "1287a1fa-bf9c-4304-a37a-ede607c07abc"
      },
      "execution_count": 123,
      "outputs": [
        {
          "output_type": "stream",
          "name": "stdout",
          "text": [
            "GPT4 Correct User: Put yourself in the shoes of a thoughtful mental health counselor. Imagine you're all set to help with kindness and understanding, ready to offer care and support. Your task is to extend understanding and guidance, providing support to individuals dealing with mental health challenges. Here is my mental health problems: I’m trying to make marriage work after a split. Before our split, he lied a lot and broke every promise to me. I don't think he cheated. Last month, I asked what women work with him, so he told me. Yesterday, I found out about a girl that he said he forgot about. Should I be upset?<|end_of_turn|>\n",
            "GPT4 Correct Assistant: I would ask you first what made you give him another chance after he repeatedly lied and broke every promise to you?  I would imagine if he repeatedly lied to you that it will damage your ability to trust him now.  Is he in therapy? Does he recognize that he has a problem and is he trying to repair it?  Even if he truly forgot to tell you about the woman at work I think the real issue here is TRUST.  I am not saying that he doesn't have a lying problem.  Instead of asking someone else if you should be upset, ask yourself how you truly feel about him and this situation.  <|end_of_turn|>\n",
            "\n"
          ]
        }
      ]
    },
    {
      "cell_type": "code",
      "source": [
        "prompt = create_prompt(test_subset[2])\n",
        "print(prompt)"
      ],
      "metadata": {
        "colab": {
          "base_uri": "https://localhost:8080/"
        },
        "id": "I0BsM4NnQ23n",
        "outputId": "844ff96b-6d9d-4109-c4e2-f19c203e004d"
      },
      "execution_count": 124,
      "outputs": [
        {
          "output_type": "stream",
          "name": "stdout",
          "text": [
            "GPT4 Correct User: Put yourself in the shoes of a thoughtful mental health counselor. Imagine you're all set to help with kindness and understanding, ready to offer care and support. Your task is to extend understanding and guidance, providing support to individuals dealing with mental health challenges. Here is my mental health problems: My fiancé and I broke up. He cheated on me numerous times. I kept forgiving but questioning his every move. He got tired and left.<|end_of_turn|>\n",
            "GPT4 Correct Assistant: if he as cheated on you multiple times it is not healthy for you to continue seeing him.  However It takes time to heal your pain. You are not a robot that can just switch off your emotions.  Please surround yourself with people who can support and empower you. <|end_of_turn|>\n",
            "\n"
          ]
        }
      ]
    },
    {
      "cell_type": "markdown",
      "source": [
        "### **Initializing the Model**\n",
        "* Load the model using a 4-bit configuration, employing double quantization, and set bfloat16 as the compute data type.\n",
        "\n",
        "* Notably, we opt for the instruct-tuned model in this instance rather than the base model. It's worth mentioning that fine-tuning a base model necessitates a more substantial amount of data!"
      ],
      "metadata": {
        "id": "4qjy9PYUaY3W"
      }
    },
    {
      "cell_type": "code",
      "source": [
        "from transformers import AutoModelForCausalLM, AutoTokenizer, BitsAndBytesConfig\n",
        "import torch\n",
        "\n",
        "bnb_config = BitsAndBytesConfig(\n",
        "        load_in_4bit=True, bnb_4bit_quant_type=\"nf4\", bnb_4bit_compute_dtype=\"float16\", bnb_4bit_use_double_quant=True\n",
        "    )\n"
      ],
      "metadata": {
        "id": "P60Ij4YdS-Rc"
      },
      "execution_count": 125,
      "outputs": []
    },
    {
      "cell_type": "markdown",
      "source": [
        "* **Model and Tokenizer:** https://huggingface.co/openchat/openchat-3.5-1210"
      ],
      "metadata": {
        "id": "BAKb1MQOXzG7"
      }
    },
    {
      "cell_type": "code",
      "source": [
        "mode_id = \"openchat/openchat-3.5-1210\""
      ],
      "metadata": {
        "id": "LY1mIvbkCJij"
      },
      "execution_count": 126,
      "outputs": []
    },
    {
      "cell_type": "code",
      "source": [
        "model = AutoModelForCausalLM.from_pretrained(\n",
        "        mode_id, quantization_config=bnb_config, device_map=\"auto\", use_cache=False\n",
        "    )"
      ],
      "metadata": {
        "colab": {
          "base_uri": "https://localhost:8080/",
          "height": 104,
          "referenced_widgets": [
            "5b0e349d2ea6471397024e155dd8abe9",
            "bb4c6d3ff1154780aef082236c6f3e0b",
            "553486d7afc34234a43aa2b2517621f3",
            "54bc775e3d8949cbb2252104a6b10e63",
            "db44fb95f2fa4b93bd6ef2dbeb5aeea5",
            "7e1c8f1e33054af6bb38417d0a0fcb6e",
            "206298539d6747a69b05af9af1371ff7",
            "0c61bf764dc14d4c932a035a5f76e117",
            "d01f3148641e4ed4adb54b4390ea311d",
            "294c8362789a4f21a8a57f9eb52922d4",
            "8dc886032af74515ac6d58bd470bf76d"
          ]
        },
        "id": "-KuZ1Az8eDnE",
        "outputId": "25477086-4a2d-4317-b681-1f5dc75d34fc"
      },
      "execution_count": 127,
      "outputs": [
        {
          "output_type": "display_data",
          "data": {
            "text/plain": [
              "Loading checkpoint shards:   0%|          | 0/3 [00:00<?, ?it/s]"
            ],
            "application/vnd.jupyter.widget-view+json": {
              "version_major": 2,
              "version_minor": 0,
              "model_id": "5b0e349d2ea6471397024e155dd8abe9"
            }
          },
          "metadata": {}
        },
        {
          "output_type": "stream",
          "name": "stderr",
          "text": [
            "/usr/local/lib/python3.10/dist-packages/transformers/generation/configuration_utils.py:381: UserWarning: `do_sample` is set to `False`. However, `temperature` is set to `0.5` -- this flag is only used in sample-based generation modes. You should set `do_sample=True` or unset `temperature`. This was detected when initializing the generation config instance, which means the corresponding file may hold incorrect parameterization and should be fixed.\n",
            "  warnings.warn(\n"
          ]
        }
      ]
    },
    {
      "cell_type": "code",
      "source": [
        "tokenizer = AutoTokenizer.from_pretrained(\"openchat/openchat-3.5-1210\")\n",
        "tokenizer.pad_token = tokenizer.eos_token\n",
        "tokenizer.padding_side = \"right\""
      ],
      "metadata": {
        "id": "9TzTWLD2WBZV",
        "colab": {
          "base_uri": "https://localhost:8080/"
        },
        "outputId": "2cd70d73-420e-4c7f-817b-9a1cda6be63c"
      },
      "execution_count": 128,
      "outputs": [
        {
          "output_type": "stream",
          "name": "stderr",
          "text": [
            "Special tokens have been added in the vocabulary, make sure the associated word embeddings are fine-tuned or trained.\n"
          ]
        }
      ]
    },
    {
      "cell_type": "markdown",
      "source": [
        "### **Let's example how well the model does at this task currently(without training):**\n",
        "* `do_sample:`This parameter controls whether to use sampling during text generation. When do_sample is set to True, the model samples words for the next token based on their probabilities. If set to False, the model uses greedy decoding and selects the token with the highest probability at each step.\n",
        "* `pad_token_id:` This parameter represents the token ID used for padding in the tokenizer. In text generation, it's common to set the padding token to the end-of-sequence token (eos_token_id) to ensure that the generated text is complete.\n",
        "* `top_k:` top_k controls the number of highest probability options considered during sampling. For each token, the model will limit the sampling to the top k tokens with the highest probabilities.\n",
        "* **High top_k Value:** More deterministic and focused generation. The\n",
        "model considers a larger number of top probability options, resulting in conservative and predictable outputs.\n",
        "* **Low top_k Value:** More randomness in sampling. The model restricts the number of top probability options, leading to diverse and creative text generation, but it may result in less coherent or focused output.\n",
        "\n",
        "* `top_p:` top_p is used in nucleus sampling, where the model considers the cumulative probability mass of the top tokens and stops sampling when it reaches a predefined threshold. It helps in preventing the model from being overly verbose and encourages diversity in the generated text.\n",
        "* **High top_p Value:** Promotes diverse and varied text generation by considering a larger range of probable tokens. It's good for creating exploratory and varied outputs.\n",
        "* **Low top_p Value:** Adopts a stricter threshold for selecting tokens, resulting in more conservative and focused text generation. This may lead to more deterministic outputs closely tied to the most probable tokens.\n",
        "* `temperature:` temperature controls the level of randomness in the sampling process. A higher temperature (e.g., 1.0) increases randomness, making the generated text more diverse. Lower values (e.g., 0.8) make the sampling more deterministic, with the model focusing on higher probability tokens.\n",
        "\n",
        "**Documentation Link:**\n",
        "* https://python.langchain.com/docs/integrations/llms/huggingface_pipelines\n"
      ],
      "metadata": {
        "id": "dlQxPyiKi51k"
      }
    },
    {
      "cell_type": "code",
      "source": [
        "from langchain_community.llms.huggingface_pipeline import HuggingFacePipeline\n",
        "from transformers import pipeline\n",
        "from langchain.prompts import PromptTemplate\n",
        "\n",
        "# Additional configuration parameters\n",
        "do_sample = True\n",
        "pad_token_id = tokenizer.eos_token_id\n",
        "top_k = 50  # You can adjust this value based on your preference\n",
        "top_p = 0.95  # You can adjust this value based on your preference\n",
        "temperature = 0.8  # You can adjust this value based on your preference\n",
        "\n",
        "pipe = pipeline(\"text-generation\", model=model, tokenizer=tokenizer, max_new_tokens=1024, do_sample=do_sample, pad_token_id=pad_token_id, top_k=top_k, top_p=top_p, temperature=temperature)\n",
        "hf = HuggingFacePipeline(pipeline=pipe)\n",
        "\n",
        "# Create a sample prompt template\n",
        "\n",
        "template = \"\"\"GPT4 Correct User: Put yourself in the shoes of a thoughtful mental health counselor. Imagine you're all set to help with kindness and understanding, ready to offer care and support. Your task is to extend understanding and guidance, providing support to individuals dealing with mental health challenges. Here is my mental health problems: {context}<|end_of_turn|>\n",
        "GPT4 Correct Assistant: \"\"\"\n",
        "prompt = PromptTemplate(template=template, input_variables=[\"context\"])\n",
        "\n",
        "\n",
        "chain = prompt | hf\n",
        "\n",
        "context = \"I'm going through some things with my feelings and myself. I barely sleep and I do nothing but think about how I'm worthless and how I shouldn't be here.\\n   I've never tried or contemplated suicide. I've always wanted to fix my issues, but I never get around to it. How can I change my feeling of being worthless to everyone?\"\n",
        "\n",
        "print(chain.invoke({\"context\": context}))"
      ],
      "metadata": {
        "colab": {
          "base_uri": "https://localhost:8080/"
        },
        "id": "qb0ED7deTJ_T",
        "outputId": "cfdc9cee-6694-49e3-ca0c-035fa79cca1a"
      },
      "execution_count": 133,
      "outputs": [
        {
          "output_type": "stream",
          "name": "stdout",
          "text": [
            "İ firstly want to say that I'm sorry you're going through this tough time. It's brave of you to reach out and seek help. It's important to remember that you're not alone and there is always hope for change and growth.\n",
            "\n",
            "Feeling worthless can be an overwhelming and isolating experience, but it's important to understand that these feelings are not a true reflection of your value. They are often a result of internalizing negative thoughts and beliefs about yourself. Here are some steps you can take to begin shifting your perspective:\n",
            "\n",
            "1. Acknowledge your feelings: It's important to validate your feelings and acknowledge that they are real and can be painful. This can help you feel less alone and more understood.\n",
            "\n",
            "2. Challenge negative thoughts: When you notice negative thoughts about yourself, try to challenge them by asking yourself if they are true, helpful, or necessary. Often, these thoughts are exaggerations or distortions of reality.\n",
            "\n",
            "3. Seek professional help: A mental health counselor or therapist can provide you with tools and strategies to help you cope with your feelings of worthlessness and work towards positive change.\n",
            "\n",
            "4. Surround yourself with positive influences: Spend time with people who support and uplift you, and try to limit your exposure to negative influences like toxic relationships or negative media.\n",
            "\n",
            "5. Practice self-compassion: Treat yourself with the same kindness and understanding that you would offer to a friend in a similar situation. Remember that everyone makes mistakes and has flaws, including you.\n",
            "\n",
            "6. Engage in activities that bring you joy: Engaging in activities that you enjoy can help you feel more connected to yourself and your values, which can boost your self-worth.\n",
            "\n",
            "Remember, changing your feelings of worthlessness is a process that takes time and effort. Be patient with yourself and celebrate small victories along the way. If you ever feel overwhelmed or need immediate support, please reach out to a mental health professional or a trusted person in your life.\n"
          ]
        }
      ]
    },
    {
      "cell_type": "markdown",
      "source": [
        "### **Setting up the Training**\n",
        "we will be using the `huggingface` and the `peft` library!"
      ],
      "metadata": {
        "id": "g-Vs5Dc3DdY_"
      }
    },
    {
      "cell_type": "code",
      "source": [
        "from peft import AutoPeftModelForCausalLM, LoraConfig, get_peft_model, prepare_model_for_kbit_training\n",
        "\n",
        "peft_config = LoraConfig(r=8, lora_alpha=16, lora_dropout=0.05, bias=\"none\", task_type=\"CAUSAL_LM\")\n"
      ],
      "metadata": {
        "id": "SQulqDzjd0gD"
      },
      "execution_count": 134,
      "outputs": []
    },
    {
      "cell_type": "markdown",
      "source": [
        "* we need to prepare the model to be trained in 4bit so we will use the  **`prepare_model_for_kbit_training`** function from peft\n",
        "\n",
        "\n"
      ],
      "metadata": {
        "id": "1SWl1MgjDrXX"
      }
    },
    {
      "cell_type": "code",
      "source": [
        "model = prepare_model_for_kbit_training(model)\n",
        "model = get_peft_model(model, peft_config)"
      ],
      "metadata": {
        "id": "bcco3ITVd486"
      },
      "execution_count": 135,
      "outputs": []
    },
    {
      "cell_type": "markdown",
      "source": [
        "# **Training Hyperparameters**\n",
        "The choice of hyperparameters is contingent upon the desired training duration. Pay special attention to the following key factors:\n",
        "\n",
        "* `num_train_epochs/max_steps:` Dictates the number of iterations over the data. Exercise caution, as an excessive number may lead to overfitting!\n",
        "\n",
        "* `learning_rate:` Governs the convergence speed of the model. Adjust this parameter judiciously for optimal results."
      ],
      "metadata": {
        "id": "go8_nVq7jO9d"
      }
    },
    {
      "cell_type": "code",
      "source": [
        "from transformers import TrainingArguments\n",
        "output_model= \"openchat_instruct_generation\"\n",
        "training_arguments = TrainingArguments(\n",
        "        output_dir=output_model,\n",
        "        per_device_train_batch_size=1,\n",
        "        gradient_accumulation_steps=4,\n",
        "        optim=\"paged_adamw_32bit\",\n",
        "        learning_rate=2e-4,\n",
        "        lr_scheduler_type=\"cosine\",\n",
        "        save_strategy=\"epoch\",\n",
        "        logging_steps=10,\n",
        "        num_train_epochs=1,\n",
        "        max_steps=100,\n",
        "        fp16=True,\n",
        ")\n"
      ],
      "metadata": {
        "id": "lm65iOf5DOx3"
      },
      "execution_count": 138,
      "outputs": []
    },
    {
      "cell_type": "markdown",
      "source": [
        "### **Setting up the trainer**\n",
        "\n",
        "`max_seq_length`: Context window size\n"
      ],
      "metadata": {
        "id": "Gz6Vhh4WFpMM"
      }
    },
    {
      "cell_type": "code",
      "source": [
        "from trl import SFTTrainer\n",
        "\n",
        "max_seq_length = 1024\n",
        "\n",
        "trainer = SFTTrainer(\n",
        "  model=model,\n",
        "  peft_config=peft_config,\n",
        "  max_seq_length=max_seq_length,\n",
        "  tokenizer=tokenizer,\n",
        "  packing=True,\n",
        "  formatting_func=create_prompt,  # This will apply the create_prompt mapping to all training and test dataset\n",
        "  args=training_arguments,\n",
        "  train_dataset=train_subset,      # Pass train_subset as train_dataset\n",
        "  eval_dataset=test_subset         # Pass test_subset as eval_dataset\n",
        ")\n"
      ],
      "metadata": {
        "id": "UyyNtDrmeAkc"
      },
      "execution_count": 139,
      "outputs": []
    },
    {
      "cell_type": "markdown",
      "source": [
        "### **Training starts here**"
      ],
      "metadata": {
        "id": "ohVdVrSiVjzP"
      }
    },
    {
      "cell_type": "code",
      "source": [
        "trainer.train()"
      ],
      "metadata": {
        "colab": {
          "base_uri": "https://localhost:8080/",
          "height": 495
        },
        "id": "91-fVb37EZut",
        "outputId": "7702906f-24ce-47ea-83e0-6c56fe26f1fb"
      },
      "execution_count": 140,
      "outputs": [
        {
          "output_type": "stream",
          "name": "stderr",
          "text": [
            "You're using a LlamaTokenizerFast tokenizer. Please note that with a fast tokenizer, using the `__call__` method is faster than using a method to encode the text followed by a call to the `pad` method to get a padded encoding.\n",
            "/usr/local/lib/python3.10/dist-packages/torch/utils/checkpoint.py:429: UserWarning: torch.utils.checkpoint: please pass in use_reentrant=True or use_reentrant=False explicitly. The default value of use_reentrant will be updated to be False in the future. To maintain current behavior, pass use_reentrant=True. It is recommended that you use use_reentrant=False. Refer to docs for more details on the differences between the two variants.\n",
            "  warnings.warn(\n"
          ]
        },
        {
          "output_type": "display_data",
          "data": {
            "text/plain": [
              "<IPython.core.display.HTML object>"
            ],
            "text/html": [
              "\n",
              "    <div>\n",
              "      \n",
              "      <progress value='100' max='100' style='width:300px; height:20px; vertical-align: middle;'></progress>\n",
              "      [100/100 25:12, Epoch 0/1]\n",
              "    </div>\n",
              "    <table border=\"1\" class=\"dataframe\">\n",
              "  <thead>\n",
              " <tr style=\"text-align: left;\">\n",
              "      <th>Step</th>\n",
              "      <th>Training Loss</th>\n",
              "    </tr>\n",
              "  </thead>\n",
              "  <tbody>\n",
              "    <tr>\n",
              "      <td>10</td>\n",
              "      <td>2.170900</td>\n",
              "    </tr>\n",
              "    <tr>\n",
              "      <td>20</td>\n",
              "      <td>1.866900</td>\n",
              "    </tr>\n",
              "    <tr>\n",
              "      <td>30</td>\n",
              "      <td>1.831000</td>\n",
              "    </tr>\n",
              "    <tr>\n",
              "      <td>40</td>\n",
              "      <td>1.804400</td>\n",
              "    </tr>\n",
              "    <tr>\n",
              "      <td>50</td>\n",
              "      <td>1.718300</td>\n",
              "    </tr>\n",
              "    <tr>\n",
              "      <td>60</td>\n",
              "      <td>1.654800</td>\n",
              "    </tr>\n",
              "    <tr>\n",
              "      <td>70</td>\n",
              "      <td>2.003100</td>\n",
              "    </tr>\n",
              "    <tr>\n",
              "      <td>80</td>\n",
              "      <td>1.761000</td>\n",
              "    </tr>\n",
              "    <tr>\n",
              "      <td>90</td>\n",
              "      <td>1.906200</td>\n",
              "    </tr>\n",
              "    <tr>\n",
              "      <td>100</td>\n",
              "      <td>1.651700</td>\n",
              "    </tr>\n",
              "  </tbody>\n",
              "</table><p>"
            ]
          },
          "metadata": {}
        },
        {
          "output_type": "execute_result",
          "data": {
            "text/plain": [
              "TrainOutput(global_step=100, training_loss=1.8368203163146972, metrics={'train_runtime': 1527.0437, 'train_samples_per_second': 0.262, 'train_steps_per_second': 0.065, 'total_flos': 1.7483553570816e+16, 'train_loss': 1.8368203163146972, 'epoch': 0.35})"
            ]
          },
          "metadata": {},
          "execution_count": 140
        }
      ]
    },
    {
      "cell_type": "markdown",
      "source": [
        "### **Save the model**"
      ],
      "metadata": {
        "id": "VkeZV-BeVqOa"
      }
    },
    {
      "cell_type": "code",
      "source": [
        "trainer.save_model(\"openchat_instruct_generation\")"
      ],
      "metadata": {
        "id": "ysHgWnwbfRSt"
      },
      "execution_count": 141,
      "outputs": []
    },
    {
      "cell_type": "code",
      "source": [
        "merged_model = model.merge_and_unload()"
      ],
      "metadata": {
        "colab": {
          "base_uri": "https://localhost:8080/"
        },
        "id": "9zYrr6sfkA6M",
        "outputId": "bfc52877-5589-4513-b484-fa88541580ec"
      },
      "execution_count": 142,
      "outputs": [
        {
          "output_type": "stream",
          "name": "stderr",
          "text": [
            "/usr/local/lib/python3.10/dist-packages/peft/tuners/lora/bnb.py:229: UserWarning: Merge lora module to 4-bit linear may get different generations due to rounding errors.\n",
            "  warnings.warn(\n"
          ]
        }
      ]
    },
    {
      "cell_type": "markdown",
      "source": [
        "#### **Generate Answers After Training**\n",
        "\n",
        "* `invoke:` call the chain on an input\n",
        "* `batch:` call the chain on a list of inputs\n",
        "#### **Documentation Link:**\n",
        "* https://python.langchain.com/docs/expression_language/interface"
      ],
      "metadata": {
        "id": "NsKxEwUU9qmN"
      }
    },
    {
      "cell_type": "code",
      "source": [
        "pipe = pipeline(\"text-generation\", model=merged_model, tokenizer=tokenizer, max_new_tokens=1024, do_sample=do_sample, pad_token_id=pad_token_id, top_k=top_k, top_p=top_p, temperature=temperature)\n",
        "hf = HuggingFacePipeline(pipeline=pipe)\n",
        "# Create a sample prompt template\n",
        "template = \"\"\"GPT4 Correct User: Put yourself in the shoes of a thoughtful mental health counselor. Imagine you're all set to help with kindness and understanding, ready to offer care and support. Your task is to extend understanding and guidance, providing support to individuals dealing with mental health challenges. Here is my mental health problems: {context}<|end_of_turn|>\n",
        "GPT4 Correct Assistant: \"\"\"\n",
        "prompt = PromptTemplate(template=template, input_variables=[\"context\"])\n",
        "\n",
        "chain = prompt | hf"
      ],
      "metadata": {
        "id": "8fSQmaxvfcNK"
      },
      "execution_count": 148,
      "outputs": []
    },
    {
      "cell_type": "markdown",
      "source": [
        "### **Using `Invoke`**"
      ],
      "metadata": {
        "id": "kLJrrq9jm4k0"
      }
    },
    {
      "cell_type": "code",
      "source": [
        "context = \"I'm going through some things with my feelings and myself. I barely sleep and I do nothing but think about how I'm worthless and how I shouldn't be here.\\n   I've never tried or contemplated suicide. I've always wanted to fix my issues, but I never get around to it. How can I change my feeling of being worthless to everyone?\"\n",
        "response = chain.invoke({\"context\": context})\n",
        "print(response)"
      ],
      "metadata": {
        "colab": {
          "base_uri": "https://localhost:8080/"
        },
        "id": "ULMpGtd4qrGB",
        "outputId": "3689b2e6-be1c-49d3-bd4a-b08b9662c280"
      },
      "execution_count": 149,
      "outputs": [
        {
          "output_type": "stream",
          "name": "stderr",
          "text": [
            "/usr/local/lib/python3.10/dist-packages/torch/utils/checkpoint.py:429: UserWarning: torch.utils.checkpoint: please pass in use_reentrant=True or use_reentrant=False explicitly. The default value of use_reentrant will be updated to be False in the future. To maintain current behavior, pass use_reentrant=True. It is recommended that you use use_reentrant=False. Refer to docs for more details on the differences between the two variants.\n",
            "  warnings.warn(\n",
            "/usr/local/lib/python3.10/dist-packages/torch/utils/checkpoint.py:61: UserWarning: None of the inputs have requires_grad=True. Gradients will be None\n",
            "  warnings.warn(\n"
          ]
        },
        {
          "output_type": "stream",
          "name": "stdout",
          "text": [
            "\n",
            "I'm glad you're reaching out for help. It can be really tough to deal with feeling worthless, and it sounds like you're struggling with some difficult emotions. First, it's important to know that you are not alone in feeling this way. Many people struggle with feelings of worthlessness at some point in their lives.\n",
            "\n",
            "One thing that can help is to focus on what you're good at and what you're proud of. When we're feeling down, it's easy to focus on our weaknesses and forget about our strengths. Make a list of things you're good at and things you're proud of. This can help you to see yourself in a more positive light.\n",
            "\n",
            "Another thing that can help is to talk to someone about your feelings. This could be a friend, family member, or mental health professional. Talking about your feelings can help you to process them and feel less overwhelmed.\n",
            "\n",
            "Finally, consider seeking professional help. A mental health professional can help you to explore the root of your feelings of worthlessness and provide you with tools to help you feel better.\n",
            "\n",
            "Remember, it's okay to ask for help and it's okay to feel down sometimes. Take care of yourself and reach out for support when you need it.\n"
          ]
        }
      ]
    },
    {
      "cell_type": "markdown",
      "source": [
        "### **Using `Batch`**"
      ],
      "metadata": {
        "id": "hrmvDUA6C8wU"
      }
    },
    {
      "cell_type": "code",
      "source": [
        "context_1 = \"It was over 20 years ago, but the pain has resurfaced again now because I have started seeing her Facebook posts about how great her life is. I feel so angry. How can I handle this?\"\n",
        "context_2 = \"My fiancé and I broke up. He cheated on me numerous times. I kept forgiving but questioning his every move. He got tired and left.\"\n",
        "context_3 = \"I've gone to a couple therapy sessions so far and still everytime I walk in I get nervous and shaky.  Is this normal? Should I still be feeling like this?\"\n",
        "\n",
        "contexts = [context_1, context_2, context_3]\n",
        "\n",
        "# Invoke the LangChain pipeline for multiple contexts\n",
        "responses = chain.batch([{\"context\": ctx} for ctx in contexts])\n",
        "\n",
        "# Print the responses\n",
        "for context, response in zip(contexts, responses):\n",
        "    print(f\"Context: {context}\")\n",
        "    print(f\"Response: {response}\")\n",
        "    print(\"-------------------\")\n"
      ],
      "metadata": {
        "colab": {
          "base_uri": "https://localhost:8080/"
        },
        "id": "8s36mOUPC5TS",
        "outputId": "d19f8d5a-4dc7-436e-97e9-6febf69d1dc0"
      },
      "execution_count": 153,
      "outputs": [
        {
          "output_type": "stream",
          "name": "stderr",
          "text": [
            "/usr/local/lib/python3.10/dist-packages/torch/utils/checkpoint.py:429: UserWarning: torch.utils.checkpoint: please pass in use_reentrant=True or use_reentrant=False explicitly. The default value of use_reentrant will be updated to be False in the future. To maintain current behavior, pass use_reentrant=True. It is recommended that you use use_reentrant=False. Refer to docs for more details on the differences between the two variants.\n",
            "  warnings.warn(\n",
            "/usr/local/lib/python3.10/dist-packages/torch/utils/checkpoint.py:61: UserWarning: None of the inputs have requires_grad=True. Gradients will be None\n",
            "  warnings.warn(\n"
          ]
        },
        {
          "output_type": "stream",
          "name": "stdout",
          "text": [
            "Context: It was over 20 years ago, but the pain has resurfaced again now because I have started seeing her Facebook posts about how great her life is. I feel so angry. How can I handle this?\n",
            "Response: 20 years ago you went through something painful, and it feels like it's happening again now because you're seeing her Facebook posts about how great her life is. It's natural to feel angry about this situation because the pain you experienced was a part of your life, and now it's coming back up.\n",
            "\n",
            "It's important to recognize that people have different experiences in life, and comparing ourselves to others can lead to feelings of envy and resentment. It's helpful to remind ourselves that we can't control what other people do or say, but we can control our reactions to them.\n",
            "\n",
            "When you find yourself feeling angry, try to pause and take a few deep breaths. This can help you calm down and think more clearly about the situation. You might also try writing down your feelings in a journal or talking to someone you trust about what's going on for you.\n",
            "\n",
            "It may be helpful to reach out to the person who hurt you in the past and try to resolve any unresolved feelings. Sometimes people don't realize how much they've hurt others until much later in life, so they may not even know they need to make amends. You could ask if there's anything they'd like to say or do to make things right between you two.\n",
            "\n",
            "Finally, it may be helpful to focus on your own life and what you want out of it instead of comparing yourself to others. What are your goals and dreams? What kind of person do you want to be? Focusing on these questions can help you move forward and feel more fulfilled in your own life.\n",
            "-------------------\n",
            "Context: My fiancé and I broke up. He cheated on me numerous times. I kept forgiving but questioning his every move. He got tired and left.\n",
            "Response: \n",
            "It's never easy when a relationship ends, especially when there's been infidelity involved. The pain and betrayal can feel overwhelming, and it's natural to question your decisions and wonder what went wrong. Here are some thoughts that might help you navigate this challenging time:\n",
            "\n",
            "1. Allow yourself to feel the pain: It's important to acknowledge your emotions. This breakup has likely left you feeling hurt, betrayed, and disappointed. Give yourself permission to feel these emotions without judgment. Remember that it's okay to be sad and angry.\n",
            "\n",
            "2. Reflect on the relationship: Take some time to think about what was good about the relationship and what was not. This can help you gain a better understanding of why it ended and what you might want in a future partner.\n",
            "\n",
            "3. Seek support: Reach out to friends and family for support. Sometimes talking to others who have been through similar experiences can be helpful. You might also want to consider seeing a therapist to help you process your feelings and learn strategies for moving forward.\n",
            "\n",
            "4. Give yourself time to heal: Recovering from a breakup takes time. Be patient with yourself and allow yourself to heal at your own pace.\n",
            "\n",
            "5. Learn from the experience: Use this difficult time as an opportunity to learn more about yourself and what you want in a partner. Consider what you would do differently in future relationships, and what traits you value most in a partner.\n",
            "\n",
            "6. Practice self-care: Make sure to take care of yourself physically, mentally, and emotionally. Do things that make you feel good and help you relax, such as going for a walk, practicing yoga, or treating yourself to a special meal.\n",
            "\n",
            "7. Focus on the future: While it can be helpful to reflect on the past, try not to dwell on it too much. Instead, focus on what you can do to create a happier and healthier future for yourself.\n",
            "\n",
            "Remember, it's okay to feel hurt and betrayed. Allow yourself to feel your emotions and take the time you need to heal. With self-care and support, you can move forward and find happiness again.\n",
            "-------------------\n",
            "Context: I've gone to a couple therapy sessions so far and still everytime I walk in I get nervous and shaky.  Is this normal? Should I still be feeling like this?\n",
            "Response: \n",
            "It's normal to feel nervous or shaky before therapy sessions. It's a sign that you care about yourself and your well-being and want to improve your mental health. \n",
            "\n",
            "However, it's important to communicate these feelings to your therapist, so that they can understand your experience and support you in the best way possible. If you find that you continue to feel nervous before sessions, you might consider discussing this with your therapist and exploring different techniques or strategies to help you manage these feelings. \n",
            "\n",
            "It's also worth considering whether there are any specific issues that are making you feel more nervous than usual, and if there's anything your therapist can do to help you feel more at ease.\n",
            "-------------------\n"
          ]
        }
      ]
    }
  ]
}